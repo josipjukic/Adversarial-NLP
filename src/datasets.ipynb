{
 "cells": [
  {
   "cell_type": "code",
   "execution_count": 22,
   "metadata": {},
   "outputs": [],
   "source": [
    "import os\n",
    "import pandas as pd\n",
    "from sklearn.model_selection import train_test_split"
   ]
  },
  {
   "cell_type": "code",
   "execution_count": 23,
   "metadata": {},
   "outputs": [],
   "source": [
    "def shuffle_df(df):\n",
    "    return df.sample(frac=1).reset_index(drop=True)\n",
    "\n",
    "\n",
    "def get_split(df, train_size=0.5, test_size=0.4):\n",
    "    train, rest = train_test_split(df, train_size=train_size)\n",
    "    test, val = train_test_split(rest, train_size=test_size/train_size)\n",
    "    return train, test, val\n",
    "\n",
    "\n",
    "def train_test_val(df, label_name, labels, train_size=0.5, test_size=0.4):\n",
    "    df_train, df_test, df_val = pd.DataFrame(), pd.DataFrame(), pd.DataFrame()\n",
    "    for lab in labels:\n",
    "        df_lab = df[df[label_name]==lab]\n",
    "        tr, te, val = get_split(df_lab, train_size, test_size)\n",
    "        df_train = df_train.append(tr)\n",
    "        df_test = df_test.append(te)\n",
    "        df_val = df_val.append(val)\n",
    "        \n",
    "    df_train['split'] = 'train'\n",
    "    df_test['split'] = 'test'\n",
    "    df_val['split'] = 'val'\n",
    "    df = pd.DataFrame()\n",
    "    df = df.append(shuffle_df(df_train))\n",
    "    df = df.append(shuffle_df(df_test))\n",
    "    df = df.append(shuffle_df(df_val))\n",
    "    print(df)\n",
    "    return df"
   ]
  },
  {
   "cell_type": "code",
   "execution_count": 24,
   "metadata": {},
   "outputs": [
    {
     "name": "stdout",
     "output_type": "stream",
     "text": [
      "                                                 review sentiment  split\n",
      "0     This movie looked good - good cast, evergreen ...  negative  train\n",
      "1     I caught this movie late night on TV, and was ...  positive  train\n",
      "2     This early film from director Bob Clark (\"Pork...  negative  train\n",
      "3     DIRTY WAR <br /><br />Aspect ratio: 1.78:1<br ...  negative  train\n",
      "4     Only the Antichrist could have been behind suc...  negative  train\n",
      "...                                                 ...       ...    ...\n",
      "4995  A simple comment...<br /><br />What can I say....  positive    val\n",
      "4996  Every Sunday is an eleven minute short subject...  positive    val\n",
      "4997  Night of the Comet starts as the world prepare...  negative    val\n",
      "4998  Saying this movie is extremely hard to follow ...  negative    val\n",
      "4999  The female cast of this movie is terrific: you...  negative    val\n",
      "\n",
      "[50000 rows x 3 columns]\n"
     ]
    }
   ],
   "source": [
    "cwd = os.getcwd()\n",
    "root = os.path.join(cwd, '..')\n",
    "imdb_file_path = os.path.join(root, 'datasets/IMDB.csv')\n",
    "\n",
    "df = pd.read_csv(imdb_file_path)\n",
    "df = train_test_val(df, 'sentiment', ['positive', 'negative'])"
   ]
  },
  {
   "cell_type": "code",
   "execution_count": 25,
   "metadata": {},
   "outputs": [],
   "source": [
    "from preprocessing import (denoise_text, remove_special_characters, remove_stopwords)\n",
    "\n",
    "def imdb_preprocess(text, size=200):\n",
    "    text = text.lower()\n",
    "    text = denoise_text(text)\n",
    "    text = remove_special_characters(text)\n",
    "    text = remove_stopwords(text)\n",
    "    tokens = text.split(' ')\n",
    "    end = min(len(tokens), size)\n",
    "    text = ' '.join(tokens[0:end])\n",
    "    return text\n",
    "\n",
    "df['review'] = df['review'].apply(lambda x: imdb_preprocess(x))"
   ]
  },
  {
   "cell_type": "code",
   "execution_count": 29,
   "metadata": {},
   "outputs": [],
   "source": [
    "save_path = os.path.join(root, 'datasets/imdb_clean_split.csv')\n",
    "df.to_csv(save_path)"
   ]
  },
  {
   "cell_type": "code",
   "execution_count": 30,
   "metadata": {},
   "outputs": [
    {
     "data": {
      "text/html": [
       "<div>\n",
       "<style scoped>\n",
       "    .dataframe tbody tr th:only-of-type {\n",
       "        vertical-align: middle;\n",
       "    }\n",
       "\n",
       "    .dataframe tbody tr th {\n",
       "        vertical-align: top;\n",
       "    }\n",
       "\n",
       "    .dataframe thead th {\n",
       "        text-align: right;\n",
       "    }\n",
       "</style>\n",
       "<table border=\"1\" class=\"dataframe\">\n",
       "  <thead>\n",
       "    <tr style=\"text-align: right;\">\n",
       "      <th></th>\n",
       "      <th>Unnamed: 0</th>\n",
       "      <th>review</th>\n",
       "      <th>sentiment</th>\n",
       "      <th>split</th>\n",
       "    </tr>\n",
       "  </thead>\n",
       "  <tbody>\n",
       "    <tr>\n",
       "      <td>0</td>\n",
       "      <td>0</td>\n",
       "      <td>movie looked good good cast evergreen topic ex...</td>\n",
       "      <td>negative</td>\n",
       "      <td>train</td>\n",
       "    </tr>\n",
       "    <tr>\n",
       "      <td>1</td>\n",
       "      <td>1</td>\n",
       "      <td>caught movie late night tv expecting lowbudget...</td>\n",
       "      <td>positive</td>\n",
       "      <td>train</td>\n",
       "    </tr>\n",
       "    <tr>\n",
       "      <td>2</td>\n",
       "      <td>2</td>\n",
       "      <td>early film director bob clark porkys black chr...</td>\n",
       "      <td>negative</td>\n",
       "      <td>train</td>\n",
       "    </tr>\n",
       "    <tr>\n",
       "      <td>3</td>\n",
       "      <td>3</td>\n",
       "      <td>dirty war aspect ratio 1781sound format stereo...</td>\n",
       "      <td>negative</td>\n",
       "      <td>train</td>\n",
       "    </tr>\n",
       "    <tr>\n",
       "      <td>4</td>\n",
       "      <td>4</td>\n",
       "      <td>antichrist could behind disaster one hopes iro...</td>\n",
       "      <td>negative</td>\n",
       "      <td>train</td>\n",
       "    </tr>\n",
       "  </tbody>\n",
       "</table>\n",
       "</div>"
      ],
      "text/plain": [
       "   Unnamed: 0                                             review sentiment  \\\n",
       "0           0  movie looked good good cast evergreen topic ex...  negative   \n",
       "1           1  caught movie late night tv expecting lowbudget...  positive   \n",
       "2           2  early film director bob clark porkys black chr...  negative   \n",
       "3           3  dirty war aspect ratio 1781sound format stereo...  negative   \n",
       "4           4  antichrist could behind disaster one hopes iro...  negative   \n",
       "\n",
       "   split  \n",
       "0  train  \n",
       "1  train  \n",
       "2  train  \n",
       "3  train  \n",
       "4  train  "
      ]
     },
     "execution_count": 30,
     "metadata": {},
     "output_type": "execute_result"
    }
   ],
   "source": [
    "df = pd.read_csv(save_path)\n",
    "df.head()"
   ]
  }
 ],
 "metadata": {
  "kernelspec": {
   "display_name": "Python 3",
   "language": "python",
   "name": "python3"
  },
  "language_info": {
   "codemirror_mode": {
    "name": "ipython",
    "version": 3
   },
   "file_extension": ".py",
   "mimetype": "text/x-python",
   "name": "python",
   "nbconvert_exporter": "python",
   "pygments_lexer": "ipython3",
   "version": "3.7.4"
  }
 },
 "nbformat": 4,
 "nbformat_minor": 2
}
