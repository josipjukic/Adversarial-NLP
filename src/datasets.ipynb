{
 "cells": [
  {
   "cell_type": "code",
   "execution_count": null,
   "metadata": {},
   "outputs": [],
   "source": [
    "import os\n",
    "import pandas as pd\n",
    "from sklearn.model_selection import train_test_split"
   ]
  },
  {
   "cell_type": "code",
   "execution_count": null,
   "metadata": {},
   "outputs": [],
   "source": [
    "def shuffle_df(df):\n",
    "    return df.sample(frac=1).reset_index(drop=True)\n",
    "\n",
    "\n",
    "def get_split(df, train_size=0.5, test_size=0.4):\n",
    "    train, rest = train_test_split(df, train_size=train_size)\n",
    "    test, val = train_test_split(rest, train_size=test_size/train_size)\n",
    "    return train, test, val\n",
    "\n",
    "\n",
    "def train_test_val(df, label_name, labels, train_size=0.5, test_size=0.4):\n",
    "    df_train, df_test, df_val = pd.DataFrame(), pd.DataFrame(), pd.DataFrame()\n",
    "    for lab in labels:\n",
    "        df_lab = df[df[label_name]==lab]\n",
    "        tr, te, val = get_split(df_lab, train_size, test_size)\n",
    "        df_train = df_train.append(tr)\n",
    "        df_test = df_test.append(te)\n",
    "        df_val = df_val.append(val)\n",
    "        \n",
    "    df_train['split'] = 'train'\n",
    "    df_test['split'] = 'test'\n",
    "    df_val['split'] = 'val'\n",
    "    df = pd.DataFrame()\n",
    "    df = df.append(shuffle_df(df_train))\n",
    "    df = df.append(shuffle_df(df_test))\n",
    "    df = df.append(shuffle_df(df_val))\n",
    "    print(df)\n",
    "    return df"
   ]
  },
  {
   "cell_type": "code",
   "execution_count": null,
   "metadata": {},
   "outputs": [],
   "source": [
    "cwd = os.getcwd()\n",
    "root = os.path.join(cwd, '..')\n",
    "imdb_file_path = os.path.join(root, 'datasets/imdb/IMDB.csv')\n",
    "\n",
    "df = pd.read_csv(imdb_file_path)\n",
    "df = train_test_val(df, 'sentiment', ['positive', 'negative'])"
   ]
  },
  {
   "cell_type": "code",
   "execution_count": null,
   "metadata": {},
   "outputs": [],
   "source": [
    "from preprocessing import imdb_preprocess\n",
    "\n",
    "df['review'] = df['review'].apply(lambda x: imdb_preprocess(x))\n",
    "save_path = os.path.join(root, 'datasets/imdb/imdb_clean_split.csv')\n",
    "df.to_csv(save_path)"
   ]
  }
 ],
 "metadata": {
  "kernelspec": {
   "display_name": "Python 3",
   "language": "python",
   "name": "python3"
  },
  "language_info": {
   "codemirror_mode": {
    "name": "ipython",
    "version": 3
   },
   "file_extension": ".py",
   "mimetype": "text/x-python",
   "name": "python",
   "nbconvert_exporter": "python",
   "pygments_lexer": "ipython3",
   "version": "3.7.4"
  }
 },
 "nbformat": 4,
 "nbformat_minor": 2
}
